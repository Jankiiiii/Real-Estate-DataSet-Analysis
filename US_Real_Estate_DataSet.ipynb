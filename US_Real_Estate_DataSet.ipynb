{
 "cells": [
  {
   "cell_type": "markdown",
   "id": "9f55d86f",
   "metadata": {},
   "source": [
    "Q.1 Write a program to implement the following using operators in Python. start no=110, result=550. Store operators(+,-,*,/,1/x,%,// etc.) in a list. Take a random operator from the list, apply the operation on the start no and result. Store answer in result variable. Take input for a random operator till it is valid input. [Use import random print(random.randint(3, 9)) ]"
   ]
  },
  {
   "cell_type": "code",
   "execution_count": 1,
   "id": "dce3506b",
   "metadata": {},
   "outputs": [
    {
     "name": "stdout",
     "output_type": "stream",
     "text": [
      "operand: 3\n",
      "923160/461580\n",
      "2.0\n",
      "operand: 0\n",
      "923160+461580\n",
      "1384740\n",
      "operand: 8\n"
     ]
    }
   ],
   "source": [
    "#end row of dataset is result\n",
    "#end row/2 is start n\n",
    "startno=923160\n",
    "result=461580\n",
    "operatorlist=['+','-','*','/','//']\n",
    "\n",
    "import random\n",
    "while(True):\n",
    "  r=random.randint(0,10)\n",
    "  print(\"operand:\",r)\n",
    "  if(r>=len(operatorlist)):\n",
    "    break\n",
    "  else:\n",
    "    s=str(startno)+str(operatorlist[r])+str(result)\n",
    "    print(s)\n",
    "    operation=eval(s)\n",
    "    print(operation)  "
   ]
  },
  {
   "cell_type": "markdown",
   "id": "d27ba95c",
   "metadata": {},
   "source": [
    "Q.2 Write a program to create the following pattern. Take input for n. for n=5. [ord()-for character to ascii, chr()-for ascii to char]\n",
    "\n",
    "A AB ABC ABCDEF ABCDEFGHIJKL"
   ]
  },
  {
   "cell_type": "code",
   "execution_count": 4,
   "id": "abf00fcb",
   "metadata": {},
   "outputs": [
    {
     "name": "stdout",
     "output_type": "stream",
     "text": [
      "enter no of rows:6\n",
      "A\n",
      "AB\n",
      "ABC\n",
      "ABCDEF\n",
      "ABCDEFGHIJKL\n",
      "ABCDEFGHIJKLMNOPQRSTUV\n"
     ]
    }
   ],
   "source": [
    "n=int(input(\"enter no of rows:\"))\n",
    "i=1\n",
    "a=1\n",
    "for i in range(n):\n",
    "  for j in range(a):\n",
    "    print(chr(65+j),end=\"\")\n",
    "  print()\n",
    "  if(a==1):\n",
    "    a=2\n",
    "  else:\n",
    "    while(i!=0):\n",
    "      a=a+i\n",
    "      i=i-1"
   ]
  },
  {
   "cell_type": "markdown",
   "id": "dd3d3da8",
   "metadata": {},
   "source": [
    "Q.3 Use list comprehension to create the following output for your dataset items.\n",
    "E.g.my dataset if of car car=[“Swift”, ”BMW”, “Skoda5”, “i10”, “Lamborghini”] Create a new list of indices where the car name has a number in the name. Output for the example: [2, 3]"
   ]
  },
  {
   "cell_type": "code",
   "execution_count": 5,
   "id": "013a8a30",
   "metadata": {},
   "outputs": [
    {
     "name": "stdout",
     "output_type": "stream",
     "text": [
      "List of shows : ['Sold House', 'New Yourk', '360000', '556G 556-G 16 St', '28-02-2020', 'Bed']\n",
      "Indices where shows have a number in the name : [2, 3, 4]\n"
     ]
    }
   ],
   "source": [
    "import re\n",
    "s=[\"Sold House\", \"New Yourk\", \"360000\", \"556G 556-G 16 St\", \"28-02-2020\", \"Bed\"]\n",
    "print(\"List of shows : \" + str(s))\n",
    "indices=[i for i,x in enumerate(s) if re.search(\"[0-9]+\",x)]\n",
    "print(\"Indices where shows have a number in the name : \" + str(indices))"
   ]
  },
  {
   "cell_type": "markdown",
   "id": "0e82e4f4",
   "metadata": {},
   "source": [
    "Q.4 Write a program to make a module. Implement (a)method overloading (b)method overriding (c)subclass (d)multilevel inheritance (e)multiple inheritance. Use the classes, properties and methods according to your data set. Import it in other program"
   ]
  },
  {
   "cell_type": "code",
   "execution_count": 7,
   "id": "7fdd4a53",
   "metadata": {},
   "outputs": [
    {
     "name": "stdout",
     "output_type": "stream",
     "text": [
      "US Real Estate : \n",
      "Puerto Rico\n",
      "\n",
      "US Real Estate : \n",
      "Mayaguez\n",
      "Moca\n",
      "\n",
      "US Real Estate : \n",
      "This dataset contains Real Estate\n",
      "listings in the US broken by \n",
      "State and zip code.\n",
      "\n"
     ]
    }
   ],
   "source": [
    "#Method Overloading:\n",
    "class Estate:\n",
    "    def realEstate(self,*args):\n",
    "        print(\"US Real Estate : \")\n",
    "        for i in args:\n",
    "            print(i)\n",
    "        print()\n",
    "            \n",
    "n=Estate()\n",
    "n.realEstate(\"Puerto Rico\")\n",
    "n.realEstate(\"Mayaguez\",\"Moca\")\n",
    "n.realEstate(\"This dataset contains Real Estate\",\"listings in the US broken by \",\"State and zip code.\")"
   ]
  },
  {
   "cell_type": "code",
   "execution_count": 10,
   "id": "f0e19d5a",
   "metadata": {},
   "outputs": [
    {
     "name": "stdout",
     "output_type": "stream",
     "text": [
      "US Real Estate\n",
      "Real Estate listings in the US broken by State and zip code.\n"
     ]
    }
   ],
   "source": [
    "#Method Overriding:\n",
    "class Estate:\n",
    "    def realEstate(self):\n",
    "        print(\"US Real Estate\")\n",
    "        \n",
    "class city:\n",
    "    def realEstate(self):\n",
    "        print(\"Real Estate listings in the US broken by State and zip code.\")\n",
    "\n",
    "a=Estate()\n",
    "b=city()\n",
    "a.realEstate()\n",
    "b.realEstate()"
   ]
  },
  {
   "cell_type": "code",
   "execution_count": 1,
   "id": "65e965ff",
   "metadata": {},
   "outputs": [
    {
     "name": "stdout",
     "output_type": "stream",
     "text": [
      "Estates:\n",
      " acre: 0.12\n",
      " Price : 105000\n",
      "\n",
      "Estate_State:\n",
      " acre: 0.12\n",
      " Price : 105000\n",
      "\n"
     ]
    }
   ],
   "source": [
    "#subclasses\n",
    "class Estate():\n",
    "    def __init__(self,acre,price):\n",
    "        self.acre=acre\n",
    "        self.price=price\n",
    "    def display1(self):\n",
    "        print(\"Estates:\\n acre: \"+str(self.acre)+\"\\n Price : \"+str(self.price)+\"\\n\")\n",
    "class Estate_State(Estate):\n",
    "    def display2(self):\n",
    "      print(\"Estate_State:\\n acre: \"+str(self.acre)+\"\\n Price : \"+str(self.price)+\"\\n\")\n",
    "        \n",
    "\n",
    "show=Estate_State(\"0.12\",\"105000\")\n",
    "\n",
    "show.display1()\n",
    "show.display2()"
   ]
  },
  {
   "cell_type": "code",
   "execution_count": 2,
   "id": "001c776a",
   "metadata": {},
   "outputs": [
    {
     "name": "stdout",
     "output_type": "stream",
     "text": [
      "Estate_State :\n",
      "acre : 0.12\n",
      "price : 105000\n",
      "\n",
      "Estate_City :\n",
      "acre : 0.12\n",
      "price : 105000\n",
      "\n",
      "Zipcode :\n",
      "acre : 0.12\n",
      "price : 105000\n",
      "\n"
     ]
    }
   ],
   "source": [
    "#Multilevel Inheritance:\n",
    "class Estate_State:\n",
    "    def __init__(self,acre,price):\n",
    "        self.acre=acre\n",
    "        self.price=price\n",
    "    def title_info(self):\n",
    "        print(\"Estate_State :\\nacre : \"+str(self.acre)+\"\\nprice : \"+str(self.price)+\"\\n\")\n",
    "\n",
    "class Estate_City(Estate_State):\n",
    "    def activity_info(self):\n",
    "      print(\"Estate_City :\\nacre : \"+str(self.acre)+\"\\nprice : \"+str(self.price)+\"\\n\")\n",
    "        \n",
    "class Zipcode(Estate_City):\n",
    "    def show_info(self):\n",
    "        print(\"Zipcode :\\nacre : \"+str(self.acre)+\"\\nprice : \"+str(self.price)+\"\\n\")\n",
    "\n",
    "show=Zipcode(\"0.12\",\"105000\")\n",
    "show.title_info()\n",
    "show.activity_info()\n",
    "show.show_info()"
   ]
  },
  {
   "cell_type": "code",
   "execution_count": null,
   "id": "86cd151d",
   "metadata": {},
   "outputs": [],
   "source": []
  }
 ],
 "metadata": {
  "kernelspec": {
   "display_name": "Python 3 (ipykernel)",
   "language": "python",
   "name": "python3"
  },
  "language_info": {
   "codemirror_mode": {
    "name": "ipython",
    "version": 3
   },
   "file_extension": ".py",
   "mimetype": "text/x-python",
   "name": "python",
   "nbconvert_exporter": "python",
   "pygments_lexer": "ipython3",
   "version": "3.9.6"
  }
 },
 "nbformat": 4,
 "nbformat_minor": 5
}
